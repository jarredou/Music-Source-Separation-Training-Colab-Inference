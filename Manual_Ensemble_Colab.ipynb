{
  "cells": [
    {
      "cell_type": "markdown",
      "metadata": {
        "id": "9kenYyH7j9-g"
      },
      "source": [
        "#Manual Ensemble Tool\n",
        "[ZFTurbo](https://github.com/ZFTurbo/Music-Source-Separation-Training) / [jarredou](https://github.com/jarredou/Music-Source-Separation-Training-Colab-Inference/)"
      ]
    },
    {
      "cell_type": "code",
      "execution_count": null,
      "metadata": {
        "id": "Lp9841CY9dAG",
        "cellView": "form"
      },
      "outputs": [],
      "source": [
        "#@markdown # Install\n",
        "%cd /content\n",
        "!wget https://raw.githubusercontent.com/jarredou/Music-Source-Separation-Training-Colab-Inference/refs/heads/main/ensemble.py"
      ]
    },
    {
      "cell_type": "code",
      "execution_count": null,
      "metadata": {
        "cellView": "form",
        "id": "z1ZsfuqlTu-P"
      },
      "outputs": [],
      "source": [
        "#@markdown #Gdrive connection\n",
        "from google.colab import drive\n",
        "drive.mount('/content/drive')"
      ]
    },
    {
      "cell_type": "code",
      "execution_count": null,
      "metadata": {
        "cellView": "form",
        "id": "fxzSk0FcUBNk"
      },
      "outputs": [],
      "source": [
        "#@markdown #Ensemble\n",
        "output_file = \"/content/output.wav\" #@param {type:\"string\"}\n",
        "\n",
        "#@markdown <font size=2>*Documentation about the different types: https://github.com/ZFTurbo/Music-Source-Separation-Training/blob/main/docs/ensemble.md*\n",
        "type = \"max_fft\" #@param [\"avg_wave\", \"median_wave\", \"min_wave\", \"max_wave\", \"avg_fft\", \"median_fft\", \"min_fft\", \"max_fft\"]\n",
        "n_fft = 2048 #@param [8192, 4096, 2048, 1024] {type:\"raw\"}\n",
        "\n",
        "trim_to_shortest = False #@param {type:\"boolean\"}\n",
        "_trim_to_shortest = '--trim_to_shortest' if trim_to_shortest is True else ''\n",
        "#@markdown ---\n",
        "#@markdown *Leave fields empty if you don't use them all !*\n",
        "\n",
        "input_file_1 = \"\" #@param {type:\"string\"}\n",
        "input_file_2 = \"\" #@param {type:\"string\"}\n",
        "input_file_3 = \"\" #@param {type:\"string\"}\n",
        "input_file_4 = \"\" #@param {type:\"string\"}\n",
        "input_file_5 = \"\" #@param {type:\"string\"}\n",
        "input_file_6 = \"\" #@param {type:\"string\"}\n",
        "input_file_7 = \"\" #@param {type:\"string\"}\n",
        "input_file_8 = \"\" #@param {type:\"string\"}\n",
        "input_file_9 = \"\" #@param {type:\"string\"}\n",
        "input_file_10 = \"\" #@param {type:\"string\"}\n",
        "\n",
        "weight_file_1 = 1 #@param {type:\"slider\", min:1, max:10, step:1}\n",
        "weight_file_2 = 1 #@param {type:\"slider\", min:1, max:10, step:1}\n",
        "weight_file_3 = 1 #@param {type:\"slider\", min:1, max:10, step:1}\n",
        "weight_file_4 = 1 #@param {type:\"slider\", min:1, max:10, step:1}\n",
        "weight_file_5 = 1 #@param {type:\"slider\", min:1, max:10, step:1}\n",
        "weight_file_6 = 1 #@param {type:\"slider\", min:1, max:10, step:1}\n",
        "weight_file_7 = 1 #@param {type:\"slider\", min:1, max:10, step:1}\n",
        "weight_file_8 = 1 #@param {type:\"slider\", min:1, max:10, step:1}\n",
        "weight_file_9 = 1 #@param {type:\"slider\", min:1, max:10, step:1}\n",
        "weight_file_10 = 1 #@param {type:\"slider\", min:1, max:10, step:1}\n",
        "\n",
        "\n",
        "input_files = []\n",
        "for i in range(1, 11):\n",
        "    input_files.append(globals()[f'input_file_{i}'])\n",
        "# print(input_files)\n",
        "\n",
        "weights = []\n",
        "for i in range(1, 11):\n",
        "    weights.append(globals()[f'weight_file_{i}'])\n",
        "# print(weights)\n",
        "\n",
        "# remove empty inputs and add quotes\n",
        "input_files = [f'\"{file}\"' for file in input_files if file]\n",
        "\n",
        "total_input = len(input_files)\n",
        "# print(f'number of input files = {total_input}')\n",
        "\n",
        "input_files_concat = ' '.join(input_files)\n",
        "\n",
        "# number of weight entries must be same as number of input files\n",
        "weights = [w for w in weights][:total_input]\n",
        "\n",
        "weights_concat = ' '.join(map(str, weights))\n",
        "%cd '/content'\n",
        "\n",
        "!python ensemble.py \\\n",
        "    --files {input_files_concat} \\\n",
        "    --weights {weights_concat} \\\n",
        "    --type {type} \\\n",
        "    --output {output_file} \\\n",
        "    --n_fft {n_fft} \\\n",
        "    --hop_length {n_fft // 4} \\\n",
        "    {_trim_to_shortest}"
      ]
    }
  ],
  "metadata": {
    "colab": {
      "provenance": []
    },
    "kernelspec": {
      "display_name": "Python 3",
      "name": "python3"
    },
    "language_info": {
      "name": "python"
    }
  },
  "nbformat": 4,
  "nbformat_minor": 0
}