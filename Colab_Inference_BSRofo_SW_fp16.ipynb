{
  "nbformat": 4,
  "nbformat_minor": 0,
  "metadata": {
    "colab": {
      "provenance": [],
      "gpuType": "T4"
    },
    "kernelspec": {
      "name": "python3",
      "display_name": "Python 3"
    },
    "language_info": {
      "name": "python"
    },
    "accelerator": "GPU"
  },
  "cells": [
    {
      "cell_type": "code",
      "source": [
        "#@markdown #GDrive connection\n",
        "from google.colab import drive\n",
        "drive.mount('/content/drive')"
      ],
      "metadata": {
        "cellView": "form",
        "id": "soy5MwPRx7Ct"
      },
      "execution_count": null,
      "outputs": []
    },
    {
      "cell_type": "code",
      "execution_count": null,
      "metadata": {
        "cellView": "form",
        "id": "WQYoI8Hvuixn"
      },
      "outputs": [],
      "source": [
        "#@markdown # Install\n",
        "%cd /content\n",
        "!git clone -b bs_rofo_sw_fp16 https://github.com/jarredou/Music-Source-Separation-Training\n",
        "\n",
        "!pip install audiomentations pedalboard ml_collections loralib beartype\n",
        "\n",
        "%cd /content/Music-Source-Separation-Training\n",
        "!wget https://github.com/undef13/splifft/releases/download/v0.0.1/roformer-fp16.pt\n",
        "print('Installation is done !')"
      ]
    },
    {
      "cell_type": "code",
      "source": [
        "%cd /content/Music-Source-Separation-Training\n",
        "#@markdown # Separation\n",
        "#@markdown #### Separation config:\n",
        "input_folder = '/content/drive/MyDrive/input' #@param {type:\"string\"}\n",
        "output_folder = '/content/drive/MyDrive/output' #@param {type:\"string\"}\n",
        "extract_instrumental = True #@param {type:\"boolean\"}\n",
        "export_format = 'flac PCM_16' #@param ['wav FLOAT', 'flac PCM_16', 'flac PCM_24']\n",
        "\n",
        "if export_format.startswith('flac'):\n",
        "    flac_file = True\n",
        "    pcm_type = export_format.split(' ')[1]\n",
        "else:\n",
        "    flac_file = False\n",
        "    pcm_type = None\n",
        "\n",
        "\n",
        "\n",
        "\n",
        "!python inference.py \\\n",
        "    --model_type bs_roformer \\\n",
        "    --config_path configs/bs_rofo_sw_fp16.yaml \\\n",
        "    --start_check_point roformer-fp16.pt \\\n",
        "    --input_folder '{input_folder}' \\\n",
        "    --store_dir '{output_folder}' \\\n",
        "    {('--extract_instrumental' if extract_instrumental else '')} \\\n",
        "    {('--flac_file' if flac_file else '')} \\\n",
        "    {('--pcm_type ' + pcm_type if pcm_type else '')}\n",
        "\n",
        "\n"
      ],
      "metadata": {
        "cellView": "form",
        "id": "Msx3we32uwhI"
      },
      "execution_count": null,
      "outputs": []
    }
  ]
}